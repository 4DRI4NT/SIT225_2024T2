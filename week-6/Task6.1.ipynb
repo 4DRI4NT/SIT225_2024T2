{
 "cells": [
  {
   "cell_type": "code",
   "execution_count": 5,
   "id": "5e2cf1f0-ba54-411f-9663-cc54a35d1e87",
   "metadata": {
    "editable": true,
    "slideshow": {
     "slide_type": ""
    },
    "tags": []
   },
   "outputs": [
    {
     "name": "stdout",
     "output_type": "stream",
     "text": [
      "Dash app running on http://127.0.0.1:8050/\n"
     ]
    },
    {
     "data": {
      "application/javascript": [
       "window.open('http://127.0.0.1:8050/')"
      ],
      "text/plain": [
       "<IPython.core.display.Javascript object>"
      ]
     },
     "metadata": {},
     "output_type": "display_data"
    }
   ],
   "source": [
    "from dash import Dash, html, dash_table, dcc, callback, Output, Input, State, dash_table\n",
    "import pandas as pd\n",
    "import plotly.express as px\n",
    "import plotly.graph_objects as go\n",
    "\n",
    "df = pd.read_csv(\"6.1P_data.csv\")\n",
    "\n",
    "app = Dash()\n",
    "\n",
    "app.layout = [\n",
    "    dcc.Textarea(id='text-item', value='Enter sample size'),\n",
    "    html.Button('Submit', id='text-item-button', n_clicks=0),\n",
    "    dcc.Dropdown(options=['Line', 'Scatterplot', 'Distribution'], value='Line', id='graph-dropdown-item'),\n",
    "    dcc.Dropdown(options=['x', 'y', 'z', 'All'], value='x', id='controls-and-dropdown-item'),\n",
    "    dash_table.DataTable(id='data-table', page_size=6),\n",
    "    dcc.Graph(figure={}, id='controls-and-graph')\n",
    "]\n",
    "\n",
    "@callback(\n",
    "    Output('data-table', 'data'),\n",
    "    Output(component_id='controls-and-graph', component_property='figure'),\n",
    "    State('text-item', 'value'),\n",
    "    Input('text-item-button', 'n_clicks'),\n",
    "    Input(component_id='graph-dropdown-item', component_property='value'),\n",
    "    Input(component_id='controls-and-dropdown-item', component_property='value')\n",
    ")\n",
    "def update(sample_size_text, button_state, graph_type, col_chosen):\n",
    "\n",
    "    if button_state > 0:\n",
    "        try :\n",
    "            sample_size = int(sample_size_text)\n",
    "            if sample_size > df.shape[0] :\n",
    "                sample_size = df.shape[0]\n",
    "        except ValueError :\n",
    "            sample_size = df.shape[0]\n",
    "    else :\n",
    "        sample_size = df.shape[0]\n",
    "\n",
    "    \n",
    "    data = df.head(sample_size).to_dict('records')\n",
    "    \n",
    "    \n",
    "    if graph_type == 'Line':\n",
    "        if col_chosen == 'All':\n",
    "            fig = px.line(df.head(sample_size), x='time', y='x')\n",
    "            fig.add_trace(go.Scatter(x=df.head(sample_size)['time'], y=df.head(sample_size)['y'], name='y', mode='lines', showlegend=False))\n",
    "            fig.add_trace(go.Scatter(x=df.head(sample_size)['time'], y=df.head(sample_size)['z'], name='z', mode='lines', showlegend=False))\n",
    "        else:\n",
    "            fig = px.line(df.head(sample_size), x='time', y=col_chosen)\n",
    "            \n",
    "    elif graph_type == 'Scatterplot':\n",
    "        if col_chosen == 'All':\n",
    "            fig = px.scatter(df.head(sample_size), x='time', y=['x', 'y', 'z'])\n",
    "        else :\n",
    "            fig = px.scatter(df.head(sample_size), x='time', y=col_chosen)\n",
    "        \n",
    "    elif graph_type == 'Distribution':\n",
    "        if col_chosen == 'All':\n",
    "            fig = px.histogram(df.head(sample_size), x='time', y=df.head(sample_size)['x'], hover_data='x')\n",
    "            fig.add_trace(go.Bar(x=df.head(sample_size)['time'], y=df.head(sample_size)['y'], name='y', showlegend=False))\n",
    "            fig.add_trace(go.Bar(x=df.head(sample_size)['time'], y=df.head(sample_size)['z'], name='z', showlegend=False))\n",
    "            fig.update_layout(yaxis_range=[0,3])\n",
    "        else :\n",
    "            fig = px.bar(df.head(sample_size), x='time', y=col_chosen, hover_data=col_chosen)\n",
    "\n",
    "        \n",
    "    return data, fig\n",
    "\n",
    "if __name__ == '__main__':\n",
    "    app.run(debug=True, jupyter_mode=\"tab\")"
   ]
  },
  {
   "cell_type": "code",
   "execution_count": null,
   "id": "3b6778bc-b404-40e2-8bd7-c92adb5d96bf",
   "metadata": {
    "editable": true,
    "slideshow": {
     "slide_type": ""
    },
    "tags": []
   },
   "outputs": [],
   "source": []
  }
 ],
 "metadata": {
  "kernelspec": {
   "display_name": "Python 3 (ipykernel)",
   "language": "python",
   "name": "python3"
  },
  "language_info": {
   "codemirror_mode": {
    "name": "ipython",
    "version": 3
   },
   "file_extension": ".py",
   "mimetype": "text/x-python",
   "name": "python",
   "nbconvert_exporter": "python",
   "pygments_lexer": "ipython3",
   "version": "3.12.4"
  }
 },
 "nbformat": 4,
 "nbformat_minor": 5
}
